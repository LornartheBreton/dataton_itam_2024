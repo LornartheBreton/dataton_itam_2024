{
 "cells": [
  {
   "cell_type": "markdown",
   "metadata": {},
   "source": [
    "# Análisis de farmacias\n",
    "\n",
    "Este notebook analiza datos de medicinas por persona, ingresos y pobreza en distintos municipios. Se incluye el ajuste de una distribución log-normal y se exploran correlaciones entre diferentes variables. También se busca encontrar los municipios más similares según ciertas características.\n",
    "\n",
    "---\n",
    "\n",
    "## 1. Importación de bibliotecas\n",
    "Se cargan las bibliotecas necesarias para el análisis de datos y visualización."
   ]
  },
  {
   "cell_type": "code",
   "execution_count": 1,
   "metadata": {},
   "outputs": [
    {
     "ename": "ModuleNotFoundError",
     "evalue": "No module named 'seaborn'",
     "output_type": "error",
     "traceback": [
      "\u001b[1;31m---------------------------------------------------------------------------\u001b[0m",
      "\u001b[1;31mModuleNotFoundError\u001b[0m                       Traceback (most recent call last)",
      "Cell \u001b[1;32mIn[1], line 4\u001b[0m\n\u001b[0;32m      2\u001b[0m \u001b[38;5;28;01mimport\u001b[39;00m \u001b[38;5;21;01mnumpy\u001b[39;00m \u001b[38;5;28;01mas\u001b[39;00m \u001b[38;5;21;01mnp\u001b[39;00m\n\u001b[0;32m      3\u001b[0m \u001b[38;5;28;01mimport\u001b[39;00m \u001b[38;5;21;01mmatplotlib\u001b[39;00m\u001b[38;5;21;01m.\u001b[39;00m\u001b[38;5;21;01mpyplot\u001b[39;00m \u001b[38;5;28;01mas\u001b[39;00m \u001b[38;5;21;01mplt\u001b[39;00m\n\u001b[1;32m----> 4\u001b[0m \u001b[38;5;28;01mimport\u001b[39;00m \u001b[38;5;21;01mseaborn\u001b[39;00m \u001b[38;5;28;01mas\u001b[39;00m \u001b[38;5;21;01msns\u001b[39;00m\n\u001b[0;32m      5\u001b[0m \u001b[38;5;28;01mimport\u001b[39;00m \u001b[38;5;21;01mgeopandas\u001b[39;00m \u001b[38;5;28;01mas\u001b[39;00m \u001b[38;5;21;01mgpd\u001b[39;00m\n\u001b[0;32m      6\u001b[0m \u001b[38;5;28;01mfrom\u001b[39;00m \u001b[38;5;21;01msklearn\u001b[39;00m\u001b[38;5;21;01m.\u001b[39;00m\u001b[38;5;21;01mmetrics\u001b[39;00m\u001b[38;5;21;01m.\u001b[39;00m\u001b[38;5;21;01mpairwise\u001b[39;00m \u001b[38;5;28;01mimport\u001b[39;00m cosine_similarity\n",
      "\u001b[1;31mModuleNotFoundError\u001b[0m: No module named 'seaborn'"
     ]
    }
   ],
   "source": [
    "import pandas as pd\n",
    "import numpy as np\n",
    "import matplotlib.pyplot as plt\n",
    "import seaborn as sns\n",
    "import geopandas as gpd\n",
    "from sklearn.metrics.pairwise import cosine_similarity\n",
    "from scipy import stats\n",
    "from scipy.stats import gaussian_kde\n",
    "from tqdm import tqdm"
   ]
  },
  {
   "cell_type": "markdown",
   "metadata": {},
   "source": [
    "## Cargar datos principales\n",
    "Aquí cargamos los datos principales de las farmacias desde un archivo CSV."
   ]
  },
  {
   "cell_type": "code",
   "execution_count": 3,
   "metadata": {},
   "outputs": [],
   "source": [
    "df = pd.read_csv('../enigh_eda/joined_df.csv')"
   ]
  },
  {
   "cell_type": "code",
   "execution_count": null,
   "metadata": {},
   "outputs": [],
   "source": [
    "df.head()"
   ]
  },
  {
   "cell_type": "code",
   "execution_count": null,
   "metadata": {},
   "outputs": [],
   "source": [
    "df.columns"
   ]
  },
  {
   "cell_type": "markdown",
   "metadata": {},
   "source": [
    "## Filtrado de datos de medicinas\n",
    "Se filtran los datos para obtener solo aquellos donde haya consumo de medicinas por persona."
   ]
  },
  {
   "cell_type": "code",
   "execution_count": 6,
   "metadata": {},
   "outputs": [],
   "source": [
    "df_medicinas = df[df['medicina_por_persona']>0].reset_index(drop=True)"
   ]
  },
  {
   "cell_type": "code",
   "execution_count": null,
   "metadata": {},
   "outputs": [],
   "source": [
    "df_medicinas.columns"
   ]
  },
  {
   "cell_type": "code",
   "execution_count": null,
   "metadata": {},
   "outputs": [],
   "source": [
    "df_medicinas['medicina_por_persona']"
   ]
  },
  {
   "cell_type": "markdown",
   "metadata": {},
   "source": [
    "## Análisis de correlaciones\n",
    "Se calculan las correlaciones entre el ingreso por persona y el gasto en medicinas por persona."
   ]
  },
  {
   "cell_type": "code",
   "execution_count": null,
   "metadata": {},
   "outputs": [],
   "source": [
    "df_medicinas[['ingreso_por_persona_mensual','medicina_por_persona_mensual']].corr()"
   ]
  },
  {
   "cell_type": "markdown",
   "metadata": {},
   "source": [
    "## Visualización de datos\n",
    "Se grafican los datos de ingreso por persona y medicinas, así como su distribución."
   ]
  },
  {
   "cell_type": "code",
   "execution_count": null,
   "metadata": {},
   "outputs": [],
   "source": [
    "sns.scatterplot(x='medicina_por_persona_mensual',y='ingreso_por_persona_mensual',data=df_medicinas)\n",
    "plt.show()"
   ]
  },
  {
   "cell_type": "code",
   "execution_count": null,
   "metadata": {},
   "outputs": [],
   "source": [
    "sns.boxplot(x='medicina_por_persona_mensual',data=df_medicinas)\n",
    "plt.show()"
   ]
  },
  {
   "cell_type": "code",
   "execution_count": null,
   "metadata": {},
   "outputs": [],
   "source": [
    "df_medicinas['medicina_por_persona_mensual'].describe()"
   ]
  },
  {
   "cell_type": "code",
   "execution_count": null,
   "metadata": {},
   "outputs": [],
   "source": [
    "sns.histplot(df_medicinas['medicina_por_persona_mensual'],bins=100)\n",
    "plt.show()"
   ]
  },
  {
   "cell_type": "markdown",
   "metadata": {},
   "source": [
    "## Transformación logarítmica\n",
    "Se transforma la variable de medicinas por persona a una escala logarítmica y se visualiza su distribución."
   ]
  },
  {
   "cell_type": "code",
   "execution_count": 14,
   "metadata": {},
   "outputs": [],
   "source": [
    "df_medicinas['log_medicina_por_persona_mensual'] = np.log(df_medicinas['medicina_por_persona_mensual'])"
   ]
  },
  {
   "cell_type": "code",
   "execution_count": null,
   "metadata": {},
   "outputs": [],
   "source": [
    "sns.histplot(df_medicinas['log_medicina_por_persona_mensual'],bins=100)\n",
    "plt.show()"
   ]
  },
  {
   "cell_type": "markdown",
   "metadata": {},
   "source": [
    "## Análisis de valores atípicos\n",
    "Se filtran y visualizan los valores atípicos en el consumo de medicinas."
   ]
  },
  {
   "cell_type": "code",
   "execution_count": 16,
   "metadata": {},
   "outputs": [],
   "source": [
    "df_atypical = df_medicinas[df_medicinas['medicina_por_persona_mensual']>71+329].reset_index(drop=True)"
   ]
  },
  {
   "cell_type": "code",
   "execution_count": null,
   "metadata": {},
   "outputs": [],
   "source": [
    "sns.histplot(df_atypical['medicina_por_persona_mensual'],bins=100)"
   ]
  },
  {
   "cell_type": "code",
   "execution_count": null,
   "metadata": {},
   "outputs": [],
   "source": [
    "sns.boxplot(x='medicina_por_persona_mensual',data=df_atypical)"
   ]
  },
  {
   "cell_type": "markdown",
   "metadata": {},
   "source": [
    "## Descripción del ingreso por persona\n",
    "Se revisa la distribución del ingreso por persona."
   ]
  },
  {
   "cell_type": "code",
   "execution_count": null,
   "metadata": {},
   "outputs": [],
   "source": [
    "df_medicinas['ingreso_por_persona_mensual'].describe()"
   ]
  },
  {
   "cell_type": "markdown",
   "metadata": {},
   "source": [
    "## Filtrado de datos por nivel de ingreso\n",
    "Se filtran los datos para incluir solo aquellos municipios con ingresos por debajo de 3000."
   ]
  },
  {
   "cell_type": "code",
   "execution_count": 20,
   "metadata": {},
   "outputs": [],
   "source": [
    "df_atypical = df_medicinas[(df_medicinas['ingreso_por_persona_mensual']<3000) & (df_medicinas['ingreso_por_persona_mensual']>0)].reset_index(drop=True)"
   ]
  },
  {
   "cell_type": "code",
   "execution_count": null,
   "metadata": {},
   "outputs": [],
   "source": [
    "df_atypical[['ingreso_por_persona_mensual','medicina_por_persona_mensual']].corr()"
   ]
  },
  {
   "cell_type": "markdown",
   "metadata": {},
   "source": [
    "## Variables geográficas\n",
    "Se seleccionan y visualizan las columnas geográficas relevantes."
   ]
  },
  {
   "cell_type": "code",
   "execution_count": null,
   "metadata": {},
   "outputs": [],
   "source": [
    "df_medicinas[['ubica_geo','NOM_ENT','NOM_MUN']]"
   ]
  },
  {
   "cell_type": "code",
   "execution_count": null,
   "metadata": {},
   "outputs": [],
   "source": [
    "sns.histplot(df_medicinas[df_medicinas['ubica_geo']==8037], x='medicina_por_persona_mensual',bins=100)\n",
    "plt.show()"
   ]
  },
  {
   "cell_type": "code",
   "execution_count": null,
   "metadata": {},
   "outputs": [],
   "source": [
    "df_medicinas['ubica_geo'].nunique()"
   ]
  },
  {
   "cell_type": "markdown",
   "metadata": {},
   "source": [
    "## Carga y transformación de datos de pobreza\n",
    "Se carga el dataset de pobreza y se formatean las columnas relevantes."
   ]
  },
  {
   "cell_type": "code",
   "execution_count": 25,
   "metadata": {},
   "outputs": [],
   "source": [
    "df_pobreza = pd.read_csv('pobreza.csv', skiprows=2)"
   ]
  },
  {
   "cell_type": "code",
   "execution_count": 26,
   "metadata": {},
   "outputs": [],
   "source": [
    "df_pobreza = df_pobreza.drop([0,1], axis=0)"
   ]
  },
  {
   "cell_type": "code",
   "execution_count": 27,
   "metadata": {},
   "outputs": [],
   "source": [
    "df_medicinas['ubica_geo'] = df_medicinas['ubica_geo'].astype(str)"
   ]
  },
  {
   "cell_type": "code",
   "execution_count": null,
   "metadata": {},
   "outputs": [],
   "source": [
    "df_medicinas['ubica_geo']"
   ]
  },
  {
   "cell_type": "code",
   "execution_count": 29,
   "metadata": {},
   "outputs": [],
   "source": [
    "df_pobreza['Clave de municipio'] = df_pobreza['Clave de municipio'].astype(str)"
   ]
  },
  {
   "cell_type": "code",
   "execution_count": 30,
   "metadata": {},
   "outputs": [],
   "source": [
    "df_pobreza['Clave de municipio'] = df_pobreza['Clave de municipio'].str.replace('.0','')"
   ]
  },
  {
   "cell_type": "code",
   "execution_count": null,
   "metadata": {},
   "outputs": [],
   "source": [
    "df_pobreza.columns"
   ]
  },
  {
   "cell_type": "markdown",
   "metadata": {},
   "source": [
    "## Unificación de datasets\n",
    "Se unen los datasets de medicinas y pobreza."
   ]
  },
  {
   "cell_type": "code",
   "execution_count": 32,
   "metadata": {},
   "outputs": [],
   "source": [
    "pobreza_check = pd.merge(df_medicinas[['ubica_geo','medicina_por_persona_mensual','alimentos','ingreso_por_persona_mensual']], df_pobreza, left_on='ubica_geo', right_on='Clave de municipio', how='left')"
   ]
  },
  {
   "cell_type": "code",
   "execution_count": null,
   "metadata": {},
   "outputs": [],
   "source": [
    "df_pobreza.columns"
   ]
  },
  {
   "cell_type": "code",
   "execution_count": null,
   "metadata": {},
   "outputs": [],
   "source": [
    "pobreza_check"
   ]
  },
  {
   "cell_type": "markdown",
   "metadata": {},
   "source": [
    "## Conversión de columnas relevantes\n",
    "Se convierten las columnas de población y porcentaje a formato numérico."
   ]
  },
  {
   "cell_type": "code",
   "execution_count": 35,
   "metadata": {},
   "outputs": [],
   "source": [
    "pobreza_check['Población 2020*\\n(leer nota al final del cuadro)'] = pobreza_check['Población 2020*\\n(leer nota al final del cuadro)'].str.replace(\".\",\"\").astype(int)"
   ]
  },
  {
   "cell_type": "code",
   "execution_count": 36,
   "metadata": {},
   "outputs": [],
   "source": [
    "pobreza_check['Población 2020*\\n(leer nota al final del cuadro)'] = pobreza_check['Población 2020*\\n(leer nota al final del cuadro)'].astype(float)"
   ]
  },
  {
   "cell_type": "code",
   "execution_count": 37,
   "metadata": {},
   "outputs": [],
   "source": [
    "pobreza_check['Porcentaje\\n2020'] = pobreza_check['Porcentaje\\n2020'].str.replace(\",\",\"\").astype(float)"
   ]
  },
  {
   "cell_type": "markdown",
   "metadata": {},
   "source": [
    "## Análisis de correlaciones estadísticas\n",
    "Se calculan las correlaciones de Pearson entre las variables de interés, incluyendo el porcentaje de pobreza y consumo de medicinas."
   ]
  },
  {
   "cell_type": "code",
   "execution_count": null,
   "metadata": {},
   "outputs": [],
   "source": [
    "pobreza_check[['medicina_por_persona_mensual','alimentos','ingreso_por_persona_mensual','Población 2020*\\n(leer nota al final del cuadro)','Porcentaje\\n2020']].corr()"
   ]
  },
  {
   "cell_type": "code",
   "execution_count": null,
   "metadata": {},
   "outputs": [],
   "source": [
    "x = pobreza_check['Porcentaje\\n2020']\n",
    "y = pobreza_check['medicina_por_persona_mensual']\n",
    "\n",
    "corr, p_value = stats.pearsonr(x,y)\n",
    "\n",
    "print(f'Pearson correlation coefficient: {corr}')\n",
    "print(f'P-value: {p_value}')"
   ]
  },
  {
   "cell_type": "code",
   "execution_count": null,
   "metadata": {},
   "outputs": [],
   "source": [
    "x = df_medicinas['ingreso_por_persona_mensual']\n",
    "y = df_medicinas['medicina_por_persona_mensual']\n",
    "\n",
    "corr, p_value = stats.pearsonr(x,y)\n",
    "\n",
    "print(f'Pearson correlation coefficient: {corr}')\n",
    "print(f'P-value: {p_value}')"
   ]
  },
  {
   "cell_type": "markdown",
   "metadata": {},
   "source": [
    "Calcular el gasto en alimentos por persona al mes"
   ]
  },
  {
   "cell_type": "code",
   "execution_count": 42,
   "metadata": {},
   "outputs": [],
   "source": [
    "df_medicinas['alimentos_por_persona_mensual'] = df_medicinas['alimentos']/df_medicinas['tot_integ']/3"
   ]
  },
  {
   "cell_type": "markdown",
   "metadata": {},
   "source": [
    "Seleccionar columnas relevantes"
   ]
  },
  {
   "cell_type": "code",
   "execution_count": 43,
   "metadata": {},
   "outputs": [],
   "source": [
    "relevant_df = df_medicinas[['ubica_geo','medicina_por_persona_mensual','alimentos_por_persona_mensual','ingreso_por_persona_mensual']]"
   ]
  },
  {
   "cell_type": "markdown",
   "metadata": {},
   "source": [
    "Agrupar los datos por ubicación geográfica"
   ]
  },
  {
   "cell_type": "code",
   "execution_count": 44,
   "metadata": {},
   "outputs": [],
   "source": [
    "grouped_mun = relevant_df.groupby('ubica_geo')"
   ]
  },
  {
   "cell_type": "markdown",
   "metadata": {},
   "source": [
    " Mostrar el promedio de gasto en medicina por persona al mes por municipio"
   ]
  },
  {
   "cell_type": "code",
   "execution_count": null,
   "metadata": {},
   "outputs": [],
   "source": [
    "for a,b in grouped_mun:\n",
    "    print(a)\n",
    "    print(b['medicina_por_persona_mensual'].mean())"
   ]
  },
  {
   "cell_type": "markdown",
   "metadata": {},
   "source": [
    "Crear DataFrame para almacenar los parámetros de las distribuciones log-normales"
   ]
  },
  {
   "cell_type": "code",
   "execution_count": 123,
   "metadata": {},
   "outputs": [],
   "source": [
    "medicinas_pdf_df = pd.DataFrame(columns=['ubica_geo','shape','loc','scale'])"
   ]
  },
  {
   "cell_type": "code",
   "execution_count": null,
   "metadata": {},
   "outputs": [],
   "source": [
    "df_medicinas['medicina_por_persona_mensual'].isna().sum()"
   ]
  },
  {
   "cell_type": "code",
   "execution_count": null,
   "metadata": {},
   "outputs": [],
   "source": [
    "relevant_df.columns"
   ]
  },
  {
   "cell_type": "markdown",
   "metadata": {},
   "source": [
    "Ajuste de distribuciones log-normales por municipio"
   ]
  },
  {
   "cell_type": "code",
   "execution_count": null,
   "metadata": {},
   "outputs": [],
   "source": [
    "for ubica_geo, data in tqdm(grouped_mun, desc='Ajustando log-normal', unit='municipios'):\n",
    "    # Si hay menos de 2 registros, se crea un conjunto de datos más grande usando multiplicadores aleatorios\n",
    "    if len(data['medicina_por_persona_mensual']) < 2:\n",
    "        # Crear 30 multiplicadores aleatorios entre 0.9 y 1.1\n",
    "        random_multipliers = np.random.uniform(0.9, 1.1, size=30)\n",
    "\n",
    "        # Repetir los datos originales para tener al menos 30 filas\n",
    "        original_data_repeated = pd.concat([data] * (30 // len(data) + 1), ignore_index=True)\n",
    "        \n",
    "        # Ajustar el conjunto repetido para que tenga exactamente 30 filas\n",
    "        original_data_repeated = original_data_repeated.iloc[:30]\n",
    "\n",
    "        # Multiplicar la columna 'medicina_por_persona_mensual' por los multiplicadores aleatorios\n",
    "        original_data_repeated['medicina_por_persona_mensual'] *= random_multipliers\n",
    "        \n",
    "        data = original_data_repeated \n",
    "\n",
    "    # Ajustar una distribución log-normal a los datos\n",
    "    shape, loc, scale = stats.lognorm.fit(data['medicina_por_persona_mensual'])\n",
    "\n",
    "    # Guardar los parámetros ajustados\n",
    "    params = {'ubica_geo': ubica_geo, 'shape': shape, 'loc': loc, 'scale': scale}\n",
    "\n",
    "    # Añadir los parámetros al DataFrame\n",
    "    medicinas_pdf_df = pd.concat([medicinas_pdf_df, pd.DataFrame([params])], ignore_index=True)\n",
    "\n",
    "# Guardar los resultados en un archivo CSV\n",
    "medicinas_pdf_df.to_csv('medicinas_pdf.csv', index=False)"
   ]
  },
  {
   "cell_type": "code",
   "execution_count": null,
   "metadata": {},
   "outputs": [],
   "source": [
    "medicinas_pdf_df.head()"
   ]
  },
  {
   "cell_type": "markdown",
   "metadata": {},
   "source": [
    "Obtener los parámetros de la fila para una distribución log-normal"
   ]
  },
  {
   "cell_type": "code",
   "execution_count": null,
   "metadata": {},
   "outputs": [],
   "source": [
    "shape = row['shape'].values[0]  # 'shape' o sigma\n",
    "loc = row['loc'].values[0]      # parámetro loc\n",
    "scale = row['scale'].values[0]  # parámetro scale"
   ]
  },
  {
   "cell_type": "code",
   "execution_count": null,
   "metadata": {},
   "outputs": [],
   "source": [
    "# Generar valores de una distribución log-normal\n",
    "x = np.linspace(0, 10, 1000)  # Crear un rango de valores x\n",
    "y = stats.lognorm.pdf(x, s=shape, loc=loc, scale=scale)  # Función de densidad de probabilidad para la distribución log-normal\n",
    "\n",
    "# Graficar la distribución\n",
    "plt.plot(x, y, label=f'Distribución Log-Normal (id=1)')\n",
    "plt.title('Distribución Log-Normal para id=1')\n",
    "plt.xlabel('X')\n",
    "plt.ylabel('Densidad de Probabilidad')\n",
    "plt.legend()\n",
    "plt.show()"
   ]
  },
  {
   "cell_type": "code",
   "execution_count": null,
   "metadata": {},
   "outputs": [],
   "source": [
    "df_medicinas.columns"
   ]
  },
  {
   "cell_type": "markdown",
   "metadata": {},
   "source": [
    "Seleccionar algunas columnas para análisis geográfico"
   ]
  },
  {
   "cell_type": "code",
   "execution_count": null,
   "metadata": {},
   "outputs": [],
   "source": [
    "df_medicinas[['latitude','longitude','LAT_DECIMAL','LON_DECIMAL']]"
   ]
  },
  {
   "cell_type": "markdown",
   "metadata": {},
   "source": [
    "Crear un nuevo DataFrame con datos de ubicación y población"
   ]
  },
  {
   "cell_type": "code",
   "execution_count": 133,
   "metadata": {},
   "outputs": [],
   "source": [
    "df_mun = df_medicinas[['ubica_geo','CVE_ENT', 'AMBITO','LAT_DECIMAL', 'LON_DECIMAL',\n",
    "       'POB_TOTAL', 'POB_MASCULINA', 'POB_FEMENINA',\n",
    "       'TOTAL DE VIVIENDAS HABITADAS']]"
   ]
  },
  {
   "cell_type": "code",
   "execution_count": null,
   "metadata": {},
   "outputs": [],
   "source": [
    "df_mun.dtypes"
   ]
  },
  {
   "cell_type": "markdown",
   "metadata": {},
   "source": [
    "Cargar un archivo CSV con datos de todos los municipios"
   ]
  },
  {
   "cell_type": "code",
   "execution_count": 135,
   "metadata": {},
   "outputs": [],
   "source": [
    "df_todos_municipios = pd.read_csv('../enigh_eda/AGEEML_20249151733738.csv', encoding='latin1')"
   ]
  },
  {
   "cell_type": "markdown",
   "metadata": {},
   "source": [
    "Filtrar para quedarse solo con localidades"
   ]
  },
  {
   "cell_type": "code",
   "execution_count": 136,
   "metadata": {},
   "outputs": [],
   "source": [
    "df_todos_municipios = df_todos_municipios[df_todos_municipios['CVE_LOC'] == 1].reset_index(drop=True)"
   ]
  },
  {
   "cell_type": "markdown",
   "metadata": {},
   "source": [
    "Ajustar las claves de municipio y entidad para tener longitud estándar"
   ]
  },
  {
   "cell_type": "code",
   "execution_count": 137,
   "metadata": {},
   "outputs": [],
   "source": [
    "df_todos_municipios['CVE_MUN'] = df_todos_municipios['CVE_MUN'].astype(str).str.zfill(3)\n",
    "df_todos_municipios['CVE_ENT'] = df_todos_municipios['CVE_ENT'].astype(str).str.zfill(2)"
   ]
  },
  {
   "cell_type": "markdown",
   "metadata": {},
   "source": [
    "Crear columna de ubicación geográfica combinando las claves de entidad y municipio"
   ]
  },
  {
   "cell_type": "code",
   "execution_count": 138,
   "metadata": {},
   "outputs": [],
   "source": [
    "df_todos_municipios['ubica_geo'] = df_todos_municipios['CVE_ENT'] + df_todos_municipios['CVE_MUN']"
   ]
  },
  {
   "cell_type": "code",
   "execution_count": 139,
   "metadata": {},
   "outputs": [],
   "source": [
    "df_mun_relevant = df_todos_municipios[['ubica_geo','CVE_ENT', 'AMBITO','LAT_DECIMAL', 'LON_DECIMAL',\n",
    "       'POB_TOTAL', 'POB_MASCULINA', 'POB_FEMENINA',\n",
    "       'TOTAL DE VIVIENDAS HABITADAS']]"
   ]
  },
  {
   "cell_type": "markdown",
   "metadata": {},
   "source": [
    "Eliminar duplicados basados en la columna de ubicación geográfica"
   ]
  },
  {
   "cell_type": "code",
   "execution_count": 140,
   "metadata": {},
   "outputs": [],
   "source": [
    "df_mun_relevant = df_mun_relevant.drop_duplicates(subset='ubica_geo')"
   ]
  },
  {
   "cell_type": "code",
   "execution_count": null,
   "metadata": {},
   "outputs": [],
   "source": [
    "df_mun_relevant.head()"
   ]
  },
  {
   "cell_type": "markdown",
   "metadata": {},
   "source": [
    "Eliminar ceros a la izquierda en la columna de ubicación geográfica"
   ]
  },
  {
   "cell_type": "code",
   "execution_count": 142,
   "metadata": {},
   "outputs": [],
   "source": [
    "df_mun = df_mun.drop_duplicates(subset='ubica_geo')"
   ]
  },
  {
   "cell_type": "code",
   "execution_count": null,
   "metadata": {},
   "outputs": [],
   "source": [
    "df_mun"
   ]
  },
  {
   "cell_type": "code",
   "execution_count": 144,
   "metadata": {},
   "outputs": [],
   "source": [
    "df_mun_relevant['ubica_geo'] = df_mun_relevant['ubica_geo'].str.lstrip('0')"
   ]
  },
  {
   "cell_type": "code",
   "execution_count": 145,
   "metadata": {},
   "outputs": [],
   "source": [
    "filtered_df_mun_estimate = df_mun_relevant[~df_mun_relevant['ubica_geo'].isin(df_mun['ubica_geo'])]"
   ]
  },
  {
   "cell_type": "code",
   "execution_count": 146,
   "metadata": {},
   "outputs": [],
   "source": [
    "df_encoded_infer = pd.get_dummies(filtered_df_mun_estimate,columns=['AMBITO','CVE_ENT'])"
   ]
  },
  {
   "cell_type": "code",
   "execution_count": 147,
   "metadata": {},
   "outputs": [],
   "source": [
    "df_encoded_infer = df_encoded_infer.reset_index(drop=True)"
   ]
  },
  {
   "cell_type": "code",
   "execution_count": null,
   "metadata": {},
   "outputs": [],
   "source": [
    "df_encoded_infer.dtypes"
   ]
  },
  {
   "cell_type": "code",
   "execution_count": null,
   "metadata": {},
   "outputs": [],
   "source": [
    "df_encoded_infer = df_encoded_infer.applymap(lambda x: pd.to_numeric(x, errors='coerce'))"
   ]
  },
  {
   "cell_type": "code",
   "execution_count": 150,
   "metadata": {},
   "outputs": [],
   "source": [
    "df_encoded_infer = df_encoded_infer.astype('float')"
   ]
  },
  {
   "cell_type": "code",
   "execution_count": 152,
   "metadata": {},
   "outputs": [],
   "source": [
    "# Función para encontrar IDs más similares usando similitud coseno\n",
    "def find_most_similar_ids(df_a, df_b):\n",
    "    # Extraer los IDs de ambos DataFrames\n",
    "    ids_a = df_a['ubica_geo']\n",
    "    ids_b = df_b['ubica_geo']\n",
    "    \n",
    "    # Eliminar las columnas de IDs para calcular la similitud\n",
    "    features_a = df_a.drop(columns=['ubica_geo']).fillna(0)\n",
    "    features_b = df_b.drop(columns=['ubica_geo']).fillna(0)\n",
    "    \n",
    "    # Calcular la similitud coseno entre cada fila de A y B\n",
    "    similarity_matrix = cosine_similarity(features_a, features_b)\n",
    "    \n",
    "    # Encontrar el índice de la fila más similar en B para cada fila en A\n",
    "    most_similar_indices = similarity_matrix.argmax(axis=1)\n",
    "    \n",
    "    # Mapear estos índices a los IDs correspondientes en B\n",
    "    most_similar_ids = ids_b.iloc[most_similar_indices].values\n",
    "    \n",
    "    # Crear un DataFrame de resultados que muestre el ID más similar para cada fila de A\n",
    "    result_df = pd.DataFrame({\n",
    "        'id_A': ids_a,\n",
    "        'most_similar_id_B': most_similar_ids\n",
    "    })\n",
    "    \n",
    "    return result_df"
   ]
  },
  {
   "cell_type": "markdown",
   "metadata": {},
   "source": [
    "Convertimos las columnas categóricas 'AMBITO' y 'CVE_ENT' de 'df_mun' en variables dummy, y convertimos el DataFrame resultante a tipo 'float'."
   ]
  },
  {
   "cell_type": "code",
   "execution_count": 153,
   "metadata": {},
   "outputs": [],
   "source": [
    "df_mun_query = pd.get_dummies(df_mun,columns=['AMBITO','CVE_ENT']).astype('float')"
   ]
  },
  {
   "cell_type": "code",
   "execution_count": null,
   "metadata": {},
   "outputs": [],
   "source": [
    "df_mun_query.shape"
   ]
  },
  {
   "cell_type": "code",
   "execution_count": null,
   "metadata": {},
   "outputs": [],
   "source": [
    "df_mun_query.columns"
   ]
  },
  {
   "cell_type": "code",
   "execution_count": null,
   "metadata": {},
   "outputs": [],
   "source": [
    "df_encoded_infer.shape"
   ]
  },
  {
   "cell_type": "code",
   "execution_count": null,
   "metadata": {},
   "outputs": [],
   "source": [
    "df_encoded_infer.columns"
   ]
  },
  {
   "cell_type": "markdown",
   "metadata": {},
   "source": [
    "Añadimos nuevas columnas 'CVE_ENT_03', 'CVE_ENT_06' y 'CVE_ENT_09' a 'df_encoded_infer' y las inicializamos con el valor 0."
   ]
  },
  {
   "cell_type": "code",
   "execution_count": 158,
   "metadata": {},
   "outputs": [],
   "source": [
    "df_encoded_infer['CVE_ENT_03'] = 0\n",
    "df_encoded_infer['CVE_ENT_06'] = 0\n",
    "df_encoded_infer['CVE_ENT_09'] = 0"
   ]
  },
  {
   "cell_type": "code",
   "execution_count": null,
   "metadata": {},
   "outputs": [],
   "source": [
    "df_encoded_infer.shape"
   ]
  },
  {
   "cell_type": "markdown",
   "metadata": {},
   "source": [
    "Verificamos cuántos registros en la columna 'ubica_geo' de 'df_mun_query' existen también en la columna 'ubica_geo' de 'df_medicinas' (convertidos a tipo float)."
   ]
  },
  {
   "cell_type": "code",
   "execution_count": null,
   "metadata": {},
   "outputs": [],
   "source": [
    "df_mun_query['ubica_geo'].isin(df_medicinas['ubica_geo'].astype(float)).sum()"
   ]
  },
  {
   "cell_type": "markdown",
   "metadata": {},
   "source": [
    "Utilizamos la función 'find_most_similar_ids' para encontrar los IDs más similares entre 'df_encoded_infer' y 'df_mun_query'."
   ]
  },
  {
   "cell_type": "code",
   "execution_count": 161,
   "metadata": {},
   "outputs": [],
   "source": [
    "resulting_df = find_most_similar_ids(df_encoded_infer, df_mun_query)"
   ]
  },
  {
   "cell_type": "code",
   "execution_count": null,
   "metadata": {},
   "outputs": [],
   "source": [
    "resulting_df"
   ]
  },
  {
   "cell_type": "markdown",
   "metadata": {},
   "source": [
    "Convertimos las columnas 'id_A' y 'most_similar_id_B' a tipo string y eliminamos los decimales '.0' que fueron añadidos al convertir."
   ]
  },
  {
   "cell_type": "code",
   "execution_count": 163,
   "metadata": {},
   "outputs": [],
   "source": [
    "resulting_df['id_A'] = resulting_df['id_A'].astype(str).str.replace('.0','')\n",
    "resulting_df['most_similar_id_B'] = resulting_df['most_similar_id_B'].astype(str).str.replace('.0','')"
   ]
  },
  {
   "cell_type": "code",
   "execution_count": null,
   "metadata": {},
   "outputs": [],
   "source": [
    "resulting_df"
   ]
  },
  {
   "cell_type": "markdown",
   "metadata": {},
   "source": [
    "Comprobamos cuántos IDs en la columna 'most_similar_id_B' existen también en la columna 'ubica_geo' del DataFrame 'df_mun' (convertidos a tipo string)."
   ]
  },
  {
   "cell_type": "code",
   "execution_count": null,
   "metadata": {},
   "outputs": [],
   "source": [
    "resulting_df['most_similar_id_B'].isin(df_mun['ubica_geo'].astype(str)).sum()"
   ]
  },
  {
   "cell_type": "markdown",
   "metadata": {},
   "source": [
    "Realizamos una fusión (merge) entre 'resulting_df' y 'medicinas_pdf_df', uniendo con la columna 'most_similar_id_B' de 'resulting_df' y 'ubica_geo' de 'medicinas_pdf_df'.\n",
    "Posteriormente eliminamos las columnas 'ubica_geo' y 'most_similar_id_B', y renombramos la columna 'id_A' como 'ubica_geo'."
   ]
  },
  {
   "cell_type": "code",
   "execution_count": 166,
   "metadata": {},
   "outputs": [],
   "source": [
    "new_mun = pd.merge(resulting_df,medicinas_pdf_df, left_on='most_similar_id_B', right_on='ubica_geo').drop(columns = ['ubica_geo','most_similar_id_B']).rename(columns={'id_A':'ubica_geo'})"
   ]
  },
  {
   "cell_type": "code",
   "execution_count": null,
   "metadata": {},
   "outputs": [],
   "source": [
    "new_mun.dtypes"
   ]
  },
  {
   "cell_type": "markdown",
   "metadata": {},
   "source": [
    "Comprobamos cuántos valores en la columna 'ubica_geo' de 'new_mun' existen también en la columna 'ubica_geo' de 'medicinas_pdf_df' (convertidos a tipo string)."
   ]
  },
  {
   "cell_type": "code",
   "execution_count": null,
   "metadata": {},
   "outputs": [],
   "source": [
    "new_mun['ubica_geo'].isin(medicinas_pdf_df['ubica_geo'].astype(str)).sum()"
   ]
  },
  {
   "cell_type": "markdown",
   "metadata": {},
   "source": [
    "Concatenamos el DataFrame 'new_mun' con 'medicinas_pdf_df' y guardamos el resultado"
   ]
  },
  {
   "cell_type": "code",
   "execution_count": 169,
   "metadata": {},
   "outputs": [],
   "source": [
    "medicinas_pdf_df_new = pd.concat([medicinas_pdf_df,new_mun], ignore_index=True)"
   ]
  },
  {
   "cell_type": "code",
   "execution_count": 170,
   "metadata": {},
   "outputs": [],
   "source": [
    "medicinas_pdf_df_new.to_csv('medicinas_pdf.csv', index=False)"
   ]
  }
 ],
 "metadata": {
  "kernelspec": {
   "display_name": "dataton_2024",
   "language": "python",
   "name": "python3"
  },
  "language_info": {
   "codemirror_mode": {
    "name": "ipython",
    "version": 3
   },
   "file_extension": ".py",
   "mimetype": "text/x-python",
   "name": "python",
   "nbconvert_exporter": "python",
   "pygments_lexer": "ipython3",
   "version": "3.12.2"
  }
 },
 "nbformat": 4,
 "nbformat_minor": 2
}
