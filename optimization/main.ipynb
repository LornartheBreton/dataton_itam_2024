{
 "cells": [
  {
   "cell_type": "code",
   "execution_count": 3,
   "metadata": {},
   "outputs": [],
   "source": [
    "import geopandas as gpd\n",
    "import pandas as pd\n",
    "from shapely.geometry import Point\n",
    "\n",
    "# Load spending polygons (GeoDataFrame with 'geometry' and 'spending' columns)\n",
    "spending_polygons = gpd.read_file('../electoral_sections_mc/output_file.geojson')\n",
    "\n",
    "# Load existing pharmacies (GeoDataFrame with 'geometry' column)\n",
    "existing_pharmacies = gpd.read_file('farmacias_nombres_limpios.csv')\n"
   ]
  },
  {
   "cell_type": "code",
   "execution_count": 5,
   "metadata": {},
   "outputs": [
    {
     "name": "stdout",
     "output_type": "stream",
     "text": [
      "<class 'geopandas.geodataframe.GeoDataFrame'>\n",
      "<class 'pandas.core.frame.DataFrame'>\n"
     ]
    }
   ],
   "source": [
    "print(type(spending_polygons))  # Should output: <class 'geopandas.geodataframe.GeoDataFrame'>\n",
    "print(type(existing_pharmacies))  # Should output: <class 'geopandas.geodataframe.GeoDataFrame'>"
   ]
  },
  {
   "cell_type": "code",
   "execution_count": 7,
   "metadata": {},
   "outputs": [
    {
     "data": {
      "text/plain": [
       "Index(['id', 'clee', 'nom_estab', 'raz_social', 'codigo_act', 'nombre_act',\n",
       "       'per_ocu', 'tipo_vial', 'nom_vial', 'tipo_v_e_1', 'nom_v_e_1',\n",
       "       'tipo_v_e_2', 'nom_v_e_2', 'tipo_v_e_3', 'nom_v_e_3', 'numero_ext',\n",
       "       'letra_ext', 'edificio', 'edificio_e', 'numero_int', 'letra_int',\n",
       "       'tipo_asent', 'nomb_asent', 'tipoCenCom', 'nom_CenCom', 'num_local',\n",
       "       'cod_postal', 'cve_ent', 'entidad', 'cve_mun', 'municipio', 'cve_loc',\n",
       "       'localidad', 'ageb', 'manzana', 'telefono', 'correoelec', 'www',\n",
       "       'tipoUniEco', 'latitud', 'longitud', 'fecha_alta', 'tipo_farmacia'],\n",
       "      dtype='object')"
      ]
     },
     "execution_count": 7,
     "metadata": {},
     "output_type": "execute_result"
    }
   ],
   "source": [
    "existing_pharmacies.columns"
   ]
  },
  {
   "cell_type": "code",
   "execution_count": 8,
   "metadata": {},
   "outputs": [],
   "source": [
    "existing_pharmacies = existing_pharmacies.rename(columns={\"longitud\": \"longitude\", \"latitud\": \"latitude\"})"
   ]
  },
  {
   "cell_type": "code",
   "execution_count": 9,
   "metadata": {},
   "outputs": [],
   "source": [
    "from shapely.geometry import Point\n",
    "\n",
    "# Assuming the columns are now correctly labeled as 'longitude' and 'latitude'\n",
    "if 'geometry' not in existing_pharmacies.columns:\n",
    "    existing_pharmacies['geometry'] = gpd.points_from_xy(existing_pharmacies['longitude'], existing_pharmacies['latitude'])"
   ]
  },
  {
   "cell_type": "code",
   "execution_count": 10,
   "metadata": {},
   "outputs": [],
   "source": [
    "existing_pharmacies = gpd.GeoDataFrame(existing_pharmacies, geometry='geometry', crs=\"EPSG:4326\")"
   ]
  },
  {
   "cell_type": "code",
   "execution_count": 11,
   "metadata": {},
   "outputs": [],
   "source": [
    "\n",
    "spending_polygons = spending_polygons.to_crs('EPSG:4326')\n",
    "existing_pharmacies = existing_pharmacies.to_crs('EPSG:4326')"
   ]
  },
  {
   "cell_type": "code",
   "execution_count": 13,
   "metadata": {},
   "outputs": [],
   "source": [
    "from deap import base, creator, tools, algorithms\n",
    "import numpy as np\n",
    "import random"
   ]
  },
  {
   "cell_type": "code",
   "execution_count": 37,
   "metadata": {},
   "outputs": [
    {
     "name": "stderr",
     "output_type": "stream",
     "text": [
      "/home/lornarthebreton/miniconda3/envs/dataton_2024/lib/python3.12/site-packages/deap/creator.py:185: RuntimeWarning: A class named 'FitnessMulti' has already been created and it will be overwritten. Consider deleting previous creation of that class or rename it.\n",
      "  warnings.warn(\"A class named '{0}' has already been created and it \"\n",
      "/home/lornarthebreton/miniconda3/envs/dataton_2024/lib/python3.12/site-packages/deap/creator.py:185: RuntimeWarning: A class named 'Individual' has already been created and it will be overwritten. Consider deleting previous creation of that class or rename it.\n",
      "  warnings.warn(\"A class named '{0}' has already been created and it \"\n"
     ]
    }
   ],
   "source": [
    "creator.create(\"FitnessMulti\", base.Fitness, weights=(1.0, 1.0))\n",
    "creator.create(\"Individual\", list, fitness=creator.FitnessMulti)"
   ]
  },
  {
   "cell_type": "code",
   "execution_count": 38,
   "metadata": {},
   "outputs": [],
   "source": [
    "from shapely.geometry import Polygon\n",
    "\n",
    "# Get bounds of the area for random point generation\n",
    "minx, miny, maxx, maxy = spending_polygons.total_bounds\n",
    "\n",
    "def generate_random_point_in_polygon(polygon):\n",
    "    minx, miny, maxx, maxy = polygon.bounds\n",
    "    while True:\n",
    "        p = Point(random.uniform(minx, maxx), random.uniform(miny, maxy))\n",
    "        if polygon.contains(p):\n",
    "            return p\n",
    "\n",
    "def create_individual():\n",
    "    individual = []\n",
    "    for _ in range(200):\n",
    "        # Randomly select a polygon weighted by spending\n",
    "        weights = spending_polygons['mean_spending']\n",
    "        selected_polygon = spending_polygons.sample(weights=weights).iloc[0]['geometry']\n",
    "        # Generate a random point within the selected polygon\n",
    "        point = generate_random_point_in_polygon(selected_polygon)\n",
    "        individual.append((point.x, point.y))\n",
    "    return creator.Individual(individual)\n"
   ]
  },
  {
   "cell_type": "code",
   "execution_count": 39,
   "metadata": {},
   "outputs": [],
   "source": [
    "toolbox = base.Toolbox()\n",
    "toolbox.register(\"individual\", create_individual)\n",
    "toolbox.register(\"population\", tools.initRepeat, list, toolbox.individual)"
   ]
  },
  {
   "cell_type": "code",
   "execution_count": 40,
   "metadata": {},
   "outputs": [
    {
     "data": {
      "text/html": [
       "<div>\n",
       "<style scoped>\n",
       "    .dataframe tbody tr th:only-of-type {\n",
       "        vertical-align: middle;\n",
       "    }\n",
       "\n",
       "    .dataframe tbody tr th {\n",
       "        vertical-align: top;\n",
       "    }\n",
       "\n",
       "    .dataframe thead th {\n",
       "        text-align: right;\n",
       "    }\n",
       "</style>\n",
       "<table border=\"1\" class=\"dataframe\">\n",
       "  <thead>\n",
       "    <tr style=\"text-align: right;\">\n",
       "      <th></th>\n",
       "      <th>AGEB</th>\n",
       "      <th>CVE_ENT</th>\n",
       "      <th>CVE_MUN</th>\n",
       "      <th>AMBITO</th>\n",
       "      <th>ubica_geo</th>\n",
       "      <th>POBTOT</th>\n",
       "      <th>shape</th>\n",
       "      <th>loc</th>\n",
       "      <th>scale</th>\n",
       "      <th>mean_spending</th>\n",
       "      <th>lower_bound</th>\n",
       "      <th>upper_bound</th>\n",
       "      <th>geometry</th>\n",
       "    </tr>\n",
       "  </thead>\n",
       "  <tbody>\n",
       "    <tr>\n",
       "      <th>0</th>\n",
       "      <td>0372</td>\n",
       "      <td>01</td>\n",
       "      <td>002</td>\n",
       "      <td>Urbana</td>\n",
       "      <td>1002</td>\n",
       "      <td>96.0</td>\n",
       "      <td>2.036582</td>\n",
       "      <td>0.841092</td>\n",
       "      <td>18.501459</td>\n",
       "      <td>30275.425765</td>\n",
       "      <td>76.288045</td>\n",
       "      <td>2.180657e+05</td>\n",
       "      <td>POLYGON ((-102.07947 22.08552, -102.0807 22.08...</td>\n",
       "    </tr>\n",
       "    <tr>\n",
       "      <th>1</th>\n",
       "      <td>025A</td>\n",
       "      <td>01</td>\n",
       "      <td>002</td>\n",
       "      <td>Urbana</td>\n",
       "      <td>1002</td>\n",
       "      <td>215.0</td>\n",
       "      <td>2.036582</td>\n",
       "      <td>0.841092</td>\n",
       "      <td>18.501459</td>\n",
       "      <td>65293.532045</td>\n",
       "      <td>176.054558</td>\n",
       "      <td>4.560718e+05</td>\n",
       "      <td>POLYGON ((-102.01512 22.19228, -102.01552 22.1...</td>\n",
       "    </tr>\n",
       "    <tr>\n",
       "      <th>2</th>\n",
       "      <td>0122</td>\n",
       "      <td>01</td>\n",
       "      <td>002</td>\n",
       "      <td>Urbana</td>\n",
       "      <td>1002</td>\n",
       "      <td>1425.0</td>\n",
       "      <td>2.036582</td>\n",
       "      <td>0.841092</td>\n",
       "      <td>18.501459</td>\n",
       "      <td>461355.904614</td>\n",
       "      <td>1081.209715</td>\n",
       "      <td>3.482264e+06</td>\n",
       "      <td>POLYGON ((-102.08767 22.23623, -102.08751 22.2...</td>\n",
       "    </tr>\n",
       "    <tr>\n",
       "      <th>3</th>\n",
       "      <td>0387</td>\n",
       "      <td>01</td>\n",
       "      <td>002</td>\n",
       "      <td>Urbana</td>\n",
       "      <td>1002</td>\n",
       "      <td>82.0</td>\n",
       "      <td>2.036582</td>\n",
       "      <td>0.841092</td>\n",
       "      <td>18.501459</td>\n",
       "      <td>28028.753781</td>\n",
       "      <td>66.506574</td>\n",
       "      <td>1.880802e+05</td>\n",
       "      <td>POLYGON ((-102.07481 22.08506, -102.07415 22.0...</td>\n",
       "    </tr>\n",
       "    <tr>\n",
       "      <th>4</th>\n",
       "      <td>0353</td>\n",
       "      <td>01</td>\n",
       "      <td>002</td>\n",
       "      <td>Urbana</td>\n",
       "      <td>1002</td>\n",
       "      <td>137.0</td>\n",
       "      <td>2.036582</td>\n",
       "      <td>0.841092</td>\n",
       "      <td>18.501459</td>\n",
       "      <td>48878.042653</td>\n",
       "      <td>109.732806</td>\n",
       "      <td>3.193725e+05</td>\n",
       "      <td>POLYGON ((-102.01394 22.1957, -102.01431 22.19...</td>\n",
       "    </tr>\n",
       "    <tr>\n",
       "      <th>...</th>\n",
       "      <td>...</td>\n",
       "      <td>...</td>\n",
       "      <td>...</td>\n",
       "      <td>...</td>\n",
       "      <td>...</td>\n",
       "      <td>...</td>\n",
       "      <td>...</td>\n",
       "      <td>...</td>\n",
       "      <td>...</td>\n",
       "      <td>...</td>\n",
       "      <td>...</td>\n",
       "      <td>...</td>\n",
       "      <td>...</td>\n",
       "    </tr>\n",
       "    <tr>\n",
       "      <th>82275</th>\n",
       "      <td>0025</td>\n",
       "      <td>32</td>\n",
       "      <td>056</td>\n",
       "      <td>Rural</td>\n",
       "      <td>32056</td>\n",
       "      <td>2753.0</td>\n",
       "      <td>1.743633</td>\n",
       "      <td>0.944591</td>\n",
       "      <td>17.974929</td>\n",
       "      <td>575728.769004</td>\n",
       "      <td>4346.256120</td>\n",
       "      <td>3.743536e+06</td>\n",
       "      <td>POLYGON ((-102.64835 22.81815, -102.64839 22.8...</td>\n",
       "    </tr>\n",
       "    <tr>\n",
       "      <th>82276</th>\n",
       "      <td>0145</td>\n",
       "      <td>32</td>\n",
       "      <td>057</td>\n",
       "      <td>Rural</td>\n",
       "      <td>32057</td>\n",
       "      <td>NaN</td>\n",
       "      <td>NaN</td>\n",
       "      <td>NaN</td>\n",
       "      <td>NaN</td>\n",
       "      <td>639944.174275</td>\n",
       "      <td>2813.950344</td>\n",
       "      <td>4.347291e+06</td>\n",
       "      <td>POLYGON ((-102.37403 22.74431, -102.37328 22.7...</td>\n",
       "    </tr>\n",
       "    <tr>\n",
       "      <th>82277</th>\n",
       "      <td>015A</td>\n",
       "      <td>32</td>\n",
       "      <td>057</td>\n",
       "      <td>Rural</td>\n",
       "      <td>32057</td>\n",
       "      <td>NaN</td>\n",
       "      <td>NaN</td>\n",
       "      <td>NaN</td>\n",
       "      <td>NaN</td>\n",
       "      <td>639944.174275</td>\n",
       "      <td>2813.950344</td>\n",
       "      <td>4.347291e+06</td>\n",
       "      <td>POLYGON ((-102.27795 22.76563, -102.27846 22.7...</td>\n",
       "    </tr>\n",
       "    <tr>\n",
       "      <th>82278</th>\n",
       "      <td>0049</td>\n",
       "      <td>32</td>\n",
       "      <td>058</td>\n",
       "      <td>Rural</td>\n",
       "      <td>32058</td>\n",
       "      <td>NaN</td>\n",
       "      <td>NaN</td>\n",
       "      <td>NaN</td>\n",
       "      <td>NaN</td>\n",
       "      <td>639944.174275</td>\n",
       "      <td>2813.950344</td>\n",
       "      <td>4.347291e+06</td>\n",
       "      <td>POLYGON ((-103.38249 21.5745, -103.38174 21.57...</td>\n",
       "    </tr>\n",
       "    <tr>\n",
       "      <th>82279</th>\n",
       "      <td>0053</td>\n",
       "      <td>32</td>\n",
       "      <td>058</td>\n",
       "      <td>Rural</td>\n",
       "      <td>32058</td>\n",
       "      <td>NaN</td>\n",
       "      <td>NaN</td>\n",
       "      <td>NaN</td>\n",
       "      <td>NaN</td>\n",
       "      <td>639944.174275</td>\n",
       "      <td>2813.950344</td>\n",
       "      <td>4.347291e+06</td>\n",
       "      <td>POLYGON ((-103.26184 21.51714, -103.25852 21.5...</td>\n",
       "    </tr>\n",
       "  </tbody>\n",
       "</table>\n",
       "<p>82280 rows × 13 columns</p>\n",
       "</div>"
      ],
      "text/plain": [
       "       AGEB CVE_ENT CVE_MUN  AMBITO ubica_geo  POBTOT     shape       loc  \\\n",
       "0      0372      01     002  Urbana      1002    96.0  2.036582  0.841092   \n",
       "1      025A      01     002  Urbana      1002   215.0  2.036582  0.841092   \n",
       "2      0122      01     002  Urbana      1002  1425.0  2.036582  0.841092   \n",
       "3      0387      01     002  Urbana      1002    82.0  2.036582  0.841092   \n",
       "4      0353      01     002  Urbana      1002   137.0  2.036582  0.841092   \n",
       "...     ...     ...     ...     ...       ...     ...       ...       ...   \n",
       "82275  0025      32     056   Rural     32056  2753.0  1.743633  0.944591   \n",
       "82276  0145      32     057   Rural     32057     NaN       NaN       NaN   \n",
       "82277  015A      32     057   Rural     32057     NaN       NaN       NaN   \n",
       "82278  0049      32     058   Rural     32058     NaN       NaN       NaN   \n",
       "82279  0053      32     058   Rural     32058     NaN       NaN       NaN   \n",
       "\n",
       "           scale  mean_spending  lower_bound   upper_bound  \\\n",
       "0      18.501459   30275.425765    76.288045  2.180657e+05   \n",
       "1      18.501459   65293.532045   176.054558  4.560718e+05   \n",
       "2      18.501459  461355.904614  1081.209715  3.482264e+06   \n",
       "3      18.501459   28028.753781    66.506574  1.880802e+05   \n",
       "4      18.501459   48878.042653   109.732806  3.193725e+05   \n",
       "...          ...            ...          ...           ...   \n",
       "82275  17.974929  575728.769004  4346.256120  3.743536e+06   \n",
       "82276        NaN  639944.174275  2813.950344  4.347291e+06   \n",
       "82277        NaN  639944.174275  2813.950344  4.347291e+06   \n",
       "82278        NaN  639944.174275  2813.950344  4.347291e+06   \n",
       "82279        NaN  639944.174275  2813.950344  4.347291e+06   \n",
       "\n",
       "                                                geometry  \n",
       "0      POLYGON ((-102.07947 22.08552, -102.0807 22.08...  \n",
       "1      POLYGON ((-102.01512 22.19228, -102.01552 22.1...  \n",
       "2      POLYGON ((-102.08767 22.23623, -102.08751 22.2...  \n",
       "3      POLYGON ((-102.07481 22.08506, -102.07415 22.0...  \n",
       "4      POLYGON ((-102.01394 22.1957, -102.01431 22.19...  \n",
       "...                                                  ...  \n",
       "82275  POLYGON ((-102.64835 22.81815, -102.64839 22.8...  \n",
       "82276  POLYGON ((-102.37403 22.74431, -102.37328 22.7...  \n",
       "82277  POLYGON ((-102.27795 22.76563, -102.27846 22.7...  \n",
       "82278  POLYGON ((-103.38249 21.5745, -103.38174 21.57...  \n",
       "82279  POLYGON ((-103.26184 21.51714, -103.25852 21.5...  \n",
       "\n",
       "[82280 rows x 13 columns]"
      ]
     },
     "execution_count": 40,
     "metadata": {},
     "output_type": "execute_result"
    }
   ],
   "source": [
    "spending_polygons"
   ]
  },
  {
   "cell_type": "code",
   "execution_count": 41,
   "metadata": {},
   "outputs": [],
   "source": [
    "from shapely.ops import nearest_points\n",
    "from shapely.geometry import MultiPoint\n",
    "\n",
    "def evaluate(individual):\n",
    "    # Convert individual to GeoDataFrame\n",
    "    new_pharmacies = gpd.GeoDataFrame(geometry=[Point(lon, lat) for lon, lat in individual], crs='EPSG:4326')\n",
    "    \n",
    "    # Calculate Revenue\n",
    "    joined = gpd.sjoin(new_pharmacies, spending_polygons, how='left', predicate='within')\n",
    "    total_revenue = joined['mean_spending'].sum()\n",
    "    \n",
    "    # Calculate Distance\n",
    "    all_pharmacies = pd.concat([existing_pharmacies, new_pharmacies], ignore_index=True)\n",
    "    all_pharm_points = all_pharmacies.geometry.tolist()\n",
    "    all_points = MultiPoint(all_pharm_points)\n",
    "    \n",
    "    # Compute pairwise distances\n",
    "    min_distance = np.inf\n",
    "    for i, point in enumerate(all_pharm_points):\n",
    "        for other_point in all_pharm_points[i+1:]:\n",
    "            distance = point.distance(other_point)\n",
    "            if distance < min_distance:\n",
    "                min_distance = distance\n",
    "    \n",
    "    # Normalize objectives\n",
    "    # For demonstration, we can assume max_possible_revenue and max_possible_distance\n",
    "    normalized_revenue = total_revenue  # No need to normalize if weights are equal\n",
    "    normalized_distance = min_distance  # Ditto\n",
    "    \n",
    "    # Return negative values because DEAP maximizes by default\n",
    "    return normalized_revenue, normalized_distance"
   ]
  },
  {
   "cell_type": "code",
   "execution_count": 42,
   "metadata": {},
   "outputs": [],
   "source": [
    "toolbox.register(\"select\", tools.selNSGA2)"
   ]
  },
  {
   "cell_type": "code",
   "execution_count": 43,
   "metadata": {},
   "outputs": [],
   "source": [
    "def cx_swap(ind1, ind2):\n",
    "    \"\"\"Custom crossover that swaps random subsets of genes.\"\"\"\n",
    "    size = min(len(ind1), len(ind2))\n",
    "    cxpoint1 = random.randint(1, size - 1)\n",
    "    ind1[cxpoint1:], ind2[cxpoint1:] = ind2[cxpoint1:], ind1[cxpoint1:]\n",
    "    return ind1, ind2\n",
    "\n",
    "toolbox.register(\"mate\", cx_swap)"
   ]
  },
  {
   "cell_type": "code",
   "execution_count": 44,
   "metadata": {},
   "outputs": [],
   "source": [
    "def mut_gaussian(individual, mu=0, sigma=0.01, indpb=0.1):\n",
    "    \"\"\"Gaussian mutation for coordinate adjustment.\"\"\"\n",
    "    for i in range(len(individual)):\n",
    "        if random.random() < indpb:\n",
    "            lon, lat = individual[i]\n",
    "            lon += random.gauss(mu, sigma)\n",
    "            lat += random.gauss(mu, sigma)\n",
    "            # Ensure the point remains within the area\n",
    "            point = Point(lon, lat)\n",
    "            if spending_polygons.unary_union.contains(point):\n",
    "                individual[i] = (lon, lat)\n",
    "    return individual,\n",
    "\n",
    "toolbox.register(\"mutate\", mut_gaussian)"
   ]
  },
  {
   "cell_type": "code",
   "execution_count": 45,
   "metadata": {},
   "outputs": [],
   "source": [
    "# Parameters\n",
    "POPULATION_SIZE = 10\n",
    "NGEN = 10\n",
    "CXPB = 0.7  # Crossover probability\n",
    "MUTPB = 0.2  # Mutation probability\n",
    "\n",
    "# Register functions\n",
    "toolbox.register(\"evaluate\", evaluate)"
   ]
  },
  {
   "cell_type": "code",
   "execution_count": 46,
   "metadata": {},
   "outputs": [],
   "source": [
    "population = toolbox.population(n=POPULATION_SIZE)"
   ]
  },
  {
   "cell_type": "code",
   "execution_count": 47,
   "metadata": {},
   "outputs": [],
   "source": [
    "hof = tools.HallOfFame(1)"
   ]
  },
  {
   "cell_type": "code",
   "execution_count": 51,
   "metadata": {},
   "outputs": [],
   "source": [
    "stats = tools.Statistics(lambda ind: ind.fitness.values)\n",
    "stats.register(\"avg\", np.mean, axis=0)\n",
    "stats.register(\"std\", np.std, axis=0)\n",
    "stats.register(\"min\", np.min, axis=0)\n",
    "stats.register(\"max\", np.max, axis=0)"
   ]
  },
  {
   "cell_type": "code",
   "execution_count": 52,
   "metadata": {},
   "outputs": [
    {
     "ename": "KeyboardInterrupt",
     "evalue": "",
     "output_type": "error",
     "traceback": [
      "\u001b[0;31m---------------------------------------------------------------------------\u001b[0m",
      "\u001b[0;31mKeyboardInterrupt\u001b[0m                         Traceback (most recent call last)",
      "Cell \u001b[0;32mIn[52], line 1\u001b[0m\n\u001b[0;32m----> 1\u001b[0m \u001b[43malgorithms\u001b[49m\u001b[38;5;241;43m.\u001b[39;49m\u001b[43meaMuPlusLambda\u001b[49m\u001b[43m(\u001b[49m\u001b[43mpopulation\u001b[49m\u001b[43m,\u001b[49m\u001b[43m \u001b[49m\u001b[43mtoolbox\u001b[49m\u001b[43m,\u001b[49m\u001b[43m \u001b[49m\u001b[43mmu\u001b[49m\u001b[38;5;241;43m=\u001b[39;49m\u001b[43mPOPULATION_SIZE\u001b[49m\u001b[43m,\u001b[49m\u001b[43m \u001b[49m\n\u001b[1;32m      2\u001b[0m \u001b[43m                          \u001b[49m\u001b[43mlambda_\u001b[49m\u001b[38;5;241;43m=\u001b[39;49m\u001b[43mPOPULATION_SIZE\u001b[49m\u001b[43m,\u001b[49m\u001b[43m \u001b[49m\u001b[43mcxpb\u001b[49m\u001b[38;5;241;43m=\u001b[39;49m\u001b[43mCXPB\u001b[49m\u001b[43m,\u001b[49m\u001b[43m \u001b[49m\u001b[43mmutpb\u001b[49m\u001b[38;5;241;43m=\u001b[39;49m\u001b[43mMUTPB\u001b[49m\u001b[43m,\u001b[49m\u001b[43m \u001b[49m\n\u001b[1;32m      3\u001b[0m \u001b[43m                          \u001b[49m\u001b[43mngen\u001b[49m\u001b[38;5;241;43m=\u001b[39;49m\u001b[43mNGEN\u001b[49m\u001b[43m,\u001b[49m\u001b[43m \u001b[49m\u001b[43mstats\u001b[49m\u001b[38;5;241;43m=\u001b[39;49m\u001b[43mstats\u001b[49m\u001b[43m,\u001b[49m\u001b[43m \u001b[49m\u001b[43mhalloffame\u001b[49m\u001b[38;5;241;43m=\u001b[39;49m\u001b[43mhof\u001b[49m\u001b[43m,\u001b[49m\u001b[43m \u001b[49m\u001b[43mverbose\u001b[49m\u001b[38;5;241;43m=\u001b[39;49m\u001b[38;5;28;43;01mTrue\u001b[39;49;00m\u001b[43m)\u001b[49m\n",
      "File \u001b[0;32m~/miniconda3/envs/dataton_2024/lib/python3.12/site-packages/deap/algorithms.py:302\u001b[0m, in \u001b[0;36meaMuPlusLambda\u001b[0;34m(population, toolbox, mu, lambda_, cxpb, mutpb, ngen, stats, halloffame, verbose)\u001b[0m\n\u001b[1;32m    300\u001b[0m invalid_ind \u001b[38;5;241m=\u001b[39m [ind \u001b[38;5;28;01mfor\u001b[39;00m ind \u001b[38;5;129;01min\u001b[39;00m population \u001b[38;5;28;01mif\u001b[39;00m \u001b[38;5;129;01mnot\u001b[39;00m ind\u001b[38;5;241m.\u001b[39mfitness\u001b[38;5;241m.\u001b[39mvalid]\n\u001b[1;32m    301\u001b[0m fitnesses \u001b[38;5;241m=\u001b[39m toolbox\u001b[38;5;241m.\u001b[39mmap(toolbox\u001b[38;5;241m.\u001b[39mevaluate, invalid_ind)\n\u001b[0;32m--> 302\u001b[0m \u001b[43m\u001b[49m\u001b[38;5;28;43;01mfor\u001b[39;49;00m\u001b[43m \u001b[49m\u001b[43mind\u001b[49m\u001b[43m,\u001b[49m\u001b[43m \u001b[49m\u001b[43mfit\u001b[49m\u001b[43m \u001b[49m\u001b[38;5;129;43;01min\u001b[39;49;00m\u001b[43m \u001b[49m\u001b[38;5;28;43mzip\u001b[39;49m\u001b[43m(\u001b[49m\u001b[43minvalid_ind\u001b[49m\u001b[43m,\u001b[49m\u001b[43m \u001b[49m\u001b[43mfitnesses\u001b[49m\u001b[43m)\u001b[49m\u001b[43m:\u001b[49m\n\u001b[1;32m    303\u001b[0m \u001b[43m    \u001b[49m\u001b[43mind\u001b[49m\u001b[38;5;241;43m.\u001b[39;49m\u001b[43mfitness\u001b[49m\u001b[38;5;241;43m.\u001b[39;49m\u001b[43mvalues\u001b[49m\u001b[43m \u001b[49m\u001b[38;5;241;43m=\u001b[39;49m\u001b[43m \u001b[49m\u001b[43mfit\u001b[49m\n\u001b[1;32m    305\u001b[0m \u001b[38;5;28;01mif\u001b[39;00m halloffame \u001b[38;5;129;01mis\u001b[39;00m \u001b[38;5;129;01mnot\u001b[39;00m \u001b[38;5;28;01mNone\u001b[39;00m:\n",
      "Cell \u001b[0;32mIn[41], line 21\u001b[0m, in \u001b[0;36mevaluate\u001b[0;34m(individual)\u001b[0m\n\u001b[1;32m     19\u001b[0m \u001b[38;5;28;01mfor\u001b[39;00m i, point \u001b[38;5;129;01min\u001b[39;00m \u001b[38;5;28menumerate\u001b[39m(all_pharm_points):\n\u001b[1;32m     20\u001b[0m     \u001b[38;5;28;01mfor\u001b[39;00m other_point \u001b[38;5;129;01min\u001b[39;00m all_pharm_points[i\u001b[38;5;241m+\u001b[39m\u001b[38;5;241m1\u001b[39m:]:\n\u001b[0;32m---> 21\u001b[0m         distance \u001b[38;5;241m=\u001b[39m \u001b[43mpoint\u001b[49m\u001b[38;5;241;43m.\u001b[39;49m\u001b[43mdistance\u001b[49m\u001b[43m(\u001b[49m\u001b[43mother_point\u001b[49m\u001b[43m)\u001b[49m\n\u001b[1;32m     22\u001b[0m         \u001b[38;5;28;01mif\u001b[39;00m distance \u001b[38;5;241m<\u001b[39m min_distance:\n\u001b[1;32m     23\u001b[0m             min_distance \u001b[38;5;241m=\u001b[39m distance\n",
      "File \u001b[0;32m~/miniconda3/envs/dataton_2024/lib/python3.12/site-packages/shapely/geometry/base.py:334\u001b[0m, in \u001b[0;36mBaseGeometry.distance\u001b[0;34m(self, other)\u001b[0m\n\u001b[1;32m    332\u001b[0m \u001b[38;5;28;01mdef\u001b[39;00m \u001b[38;5;21mdistance\u001b[39m(\u001b[38;5;28mself\u001b[39m, other):\n\u001b[1;32m    333\u001b[0m \u001b[38;5;250m    \u001b[39m\u001b[38;5;124;03m\"\"\"Unitless distance to other geometry (float)\"\"\"\u001b[39;00m\n\u001b[0;32m--> 334\u001b[0m     \u001b[38;5;28;01mreturn\u001b[39;00m _maybe_unpack(\u001b[43mshapely\u001b[49m\u001b[38;5;241;43m.\u001b[39;49m\u001b[43mdistance\u001b[49m\u001b[43m(\u001b[49m\u001b[38;5;28;43mself\u001b[39;49m\u001b[43m,\u001b[49m\u001b[43m \u001b[49m\u001b[43mother\u001b[49m\u001b[43m)\u001b[49m)\n",
      "File \u001b[0;32m~/miniconda3/envs/dataton_2024/lib/python3.12/site-packages/shapely/decorators.py:77\u001b[0m, in \u001b[0;36mmultithreading_enabled.<locals>.wrapped\u001b[0;34m(*args, **kwargs)\u001b[0m\n\u001b[1;32m     75\u001b[0m     \u001b[38;5;28;01mfor\u001b[39;00m arr \u001b[38;5;129;01min\u001b[39;00m array_args:\n\u001b[1;32m     76\u001b[0m         arr\u001b[38;5;241m.\u001b[39mflags\u001b[38;5;241m.\u001b[39mwriteable \u001b[38;5;241m=\u001b[39m \u001b[38;5;28;01mFalse\u001b[39;00m\n\u001b[0;32m---> 77\u001b[0m     \u001b[38;5;28;01mreturn\u001b[39;00m \u001b[43mfunc\u001b[49m\u001b[43m(\u001b[49m\u001b[38;5;241;43m*\u001b[39;49m\u001b[43margs\u001b[49m\u001b[43m,\u001b[49m\u001b[43m \u001b[49m\u001b[38;5;241;43m*\u001b[39;49m\u001b[38;5;241;43m*\u001b[39;49m\u001b[43mkwargs\u001b[49m\u001b[43m)\u001b[49m\n\u001b[1;32m     78\u001b[0m \u001b[38;5;28;01mfinally\u001b[39;00m:\n\u001b[1;32m     79\u001b[0m     \u001b[38;5;28;01mfor\u001b[39;00m arr, old_flag \u001b[38;5;129;01min\u001b[39;00m \u001b[38;5;28mzip\u001b[39m(array_args, old_flags):\n",
      "File \u001b[0;32m~/miniconda3/envs/dataton_2024/lib/python3.12/site-packages/shapely/measurement.py:72\u001b[0m, in \u001b[0;36mdistance\u001b[0;34m(a, b, **kwargs)\u001b[0m\n\u001b[1;32m     47\u001b[0m \u001b[38;5;129m@multithreading_enabled\u001b[39m\n\u001b[1;32m     48\u001b[0m \u001b[38;5;28;01mdef\u001b[39;00m \u001b[38;5;21mdistance\u001b[39m(a, b, \u001b[38;5;241m*\u001b[39m\u001b[38;5;241m*\u001b[39mkwargs):\n\u001b[1;32m     49\u001b[0m \u001b[38;5;250m    \u001b[39m\u001b[38;5;124;03m\"\"\"Computes the Cartesian distance between two geometries.\u001b[39;00m\n\u001b[1;32m     50\u001b[0m \n\u001b[1;32m     51\u001b[0m \u001b[38;5;124;03m    Parameters\u001b[39;00m\n\u001b[0;32m   (...)\u001b[0m\n\u001b[1;32m     70\u001b[0m \u001b[38;5;124;03m    nan\u001b[39;00m\n\u001b[1;32m     71\u001b[0m \u001b[38;5;124;03m    \"\"\"\u001b[39;00m\n\u001b[0;32m---> 72\u001b[0m     \u001b[38;5;28;01mreturn\u001b[39;00m \u001b[43mlib\u001b[49m\u001b[38;5;241;43m.\u001b[39;49m\u001b[43mdistance\u001b[49m\u001b[43m(\u001b[49m\u001b[43ma\u001b[49m\u001b[43m,\u001b[49m\u001b[43m \u001b[49m\u001b[43mb\u001b[49m\u001b[43m,\u001b[49m\u001b[43m \u001b[49m\u001b[38;5;241;43m*\u001b[39;49m\u001b[38;5;241;43m*\u001b[39;49m\u001b[43mkwargs\u001b[49m\u001b[43m)\u001b[49m\n",
      "\u001b[0;31mKeyboardInterrupt\u001b[0m: "
     ]
    }
   ],
   "source": [
    "algorithms.eaMuPlusLambda(population, toolbox, mu=POPULATION_SIZE, \n",
    "                          lambda_=POPULATION_SIZE, cxpb=CXPB, mutpb=MUTPB, \n",
    "                          ngen=NGEN, stats=stats, halloffame=hof, verbose=True)"
   ]
  },
  {
   "cell_type": "code",
   "execution_count": null,
   "metadata": {},
   "outputs": [],
   "source": []
  }
 ],
 "metadata": {
  "kernelspec": {
   "display_name": "dataton_2024",
   "language": "python",
   "name": "python3"
  },
  "language_info": {
   "codemirror_mode": {
    "name": "ipython",
    "version": 3
   },
   "file_extension": ".py",
   "mimetype": "text/x-python",
   "name": "python",
   "nbconvert_exporter": "python",
   "pygments_lexer": "ipython3",
   "version": "3.12.5"
  }
 },
 "nbformat": 4,
 "nbformat_minor": 2
}
